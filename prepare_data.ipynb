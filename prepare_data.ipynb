{
 "cells": [
  {
   "cell_type": "code",
   "execution_count": 12,
   "id": "38f39775-f089-44f7-a08e-2483ccacc6d7",
   "metadata": {},
   "outputs": [],
   "source": [
    "# Standard library\n",
    "import json\n",
    "import math\n",
    "import os\n",
    "import time\n",
    "from collections import deque\n",
    "from pathlib import Path\n",
    "from typing import Dict, Any, List\n",
    "\n",
    "# Data manipulation and analysis\n",
    "import pandas as pd\n",
    "import numpy as np\n",
    "import geopandas as gpd\n",
    "\n",
    "# Database\n",
    "import duckdb\n",
    "\n",
    "# Network analysis\n",
    "import networkx as nx\n",
    "import osmnx as ox\n",
    "\n",
    "# Visualization\n",
    "import matplotlib.pyplot as plt\n",
    "%matplotlib inline\n",
    "import pydeck as pdk\n",
    "\n",
    "# LangChain and LLM\n",
    "from langchain_ollama import ChatOllama\n",
    "from langchain_core.tools import tool\n",
    "from langchain_core.messages import HumanMessage, SystemMessage\n",
    "from langgraph.prebuilt import create_react_agent\n",
    "\n",
    "# Rich console output\n",
    "from rich.console import Console\n",
    "from rich.table import Table\n",
    "from rich.panel import Panel\n",
    "from rich.markdown import Markdown\n",
    "from rich.text import Text\n",
    "from rich import box\n",
    "\n",
    "# Jupyter display\n",
    "from IPython.display import display, Markdown as IPMarkdown, HTML, clear_output\n",
    "\n",
    "# Configure OSMnx\n",
    "ox.settings.use_cache = True\n",
    "ox.settings.log_console = True\n",
    "\n",
    "# Initialize console for Rich output\n",
    "console = Console()"
   ]
  },
  {
   "cell_type": "code",
   "execution_count": 13,
   "id": "99e6f8aa-963e-4542-b32f-5df2ab2eab81",
   "metadata": {},
   "outputs": [
    {
     "name": "stdout",
     "output_type": "stream",
     "text": [
      "🌍 DreamStreets Data Loader\n",
      "==================================================\n",
      "📍 Loading street network for: Chinatown, Manhattan\n",
      "   Using coordinates: (40.7168, -73.9986)\n",
      "   Radius: 500 meters\n",
      "✅ Loaded 139 nodes, 274 edges\n",
      "💾 Saved to chinatown.graphml\n"
     ]
    }
   ],
   "source": [
    "print(\"🌍 DreamStreets Data Loader\")\n",
    "print(\"=\" * 50)\n",
    "\n",
    "# Use the center point of Chinatown, Manhattan\n",
    "# Approximate coordinates for Chinatown center (Canal & Mott Street area)\n",
    "chinatown_coords = (40.7168, -73.9986)\n",
    "dist = 500  # meters (adjust as needed for coverage)\n",
    "\n",
    "print(f\"📍 Loading street network for: Chinatown, Manhattan\")\n",
    "print(f\"   Using coordinates: {chinatown_coords}\")\n",
    "print(f\"   Radius: {dist} meters\")\n",
    "\n",
    "# Download street network using point and distance\n",
    "G_chinatown = ox.graph_from_point(chinatown_coords, dist=dist, network_type='drive')\n",
    "\n",
    "# Convert node IDs to strings (required for analysis tools)\n",
    "G_chinatown = nx.relabel_nodes(G_chinatown, {n: str(n) for n in G_chinatown.nodes()})\n",
    "\n",
    "print(f\"✅ Loaded {G_chinatown.number_of_nodes()} nodes, {G_chinatown.number_of_edges()} edges\")\n",
    "\n",
    "# Save to GraphML\n",
    "ox.save_graphml(G_chinatown, \"chinatown.graphml\")\n",
    "print(f\"💾 Saved to chinatown.graphml\")"
   ]
  },
  {
   "cell_type": "code",
   "execution_count": 14,
   "id": "d5897d86-ebc8-41a7-87c4-143b6af0db94",
   "metadata": {},
   "outputs": [
    {
     "name": "stdout",
     "output_type": "stream",
     "text": [
      "🏢 Loading POI data for: Chinatown, Manhattan\n",
      "   Using coordinates: (40.7168, -73.9986)\n",
      "   Radius: 1000 meters\n",
      "✅ Loaded 10611 POIs\n",
      "   Top amenities: {'bench': 1317, 'restaurant': 563, 'waste_basket': 547}\n"
     ]
    },
    {
     "name": "stderr",
     "output_type": "stream",
     "text": [
      "/tmp/ipykernel_2164/3020053195.py:26: UserWarning: Geometry is in a geographic CRS. Results from 'centroid' are likely incorrect. Use 'GeoSeries.to_crs()' to re-project geometries to a projected CRS before this operation.\n",
      "\n",
      "  pois_chinatown['lon'] = pois_chinatown.geometry.centroid.x\n",
      "/tmp/ipykernel_2164/3020053195.py:27: UserWarning: Geometry is in a geographic CRS. Results from 'centroid' are likely incorrect. Use 'GeoSeries.to_crs()' to re-project geometries to a projected CRS before this operation.\n",
      "\n",
      "  pois_chinatown['lat'] = pois_chinatown.geometry.centroid.y\n"
     ]
    }
   ],
   "source": [
    "import osmnx as ox\n",
    "import pandas as pd\n",
    "\n",
    "# Use the center point of Chinatown, Manhattan\n",
    "chinatown_coords = (40.7168, -73.9986)\n",
    "dist = 1000  # meters\n",
    "\n",
    "print(f\"🏢 Loading POI data for: Chinatown, Manhattan\")\n",
    "print(f\"   Using coordinates: {chinatown_coords}\")\n",
    "print(f\"   Radius: {dist} meters\")\n",
    "\n",
    "# Define tags to download\n",
    "tags = {\n",
    "    'amenity': True,\n",
    "    'building': True,\n",
    "    'healthcare': True,\n",
    "    'shop': True,\n",
    "    'tourism': True,\n",
    "    'emergency': True\n",
    "}\n",
    "\n",
    "# Download POIs using point and distance\n",
    "pois_chinatown = ox.features_from_point(chinatown_coords, tags, dist=dist)\n",
    "\n",
    "# Extract coordinates (centroids for polygons)\n",
    "pois_chinatown['lon'] = pois_chinatown.geometry.centroid.x\n",
    "pois_chinatown['lat'] = pois_chinatown.geometry.centroid.y\n",
    "\n",
    "# Convert to regular dataframe for DuckDB\n",
    "pois_chinatown_df = pd.DataFrame(pois_chinatown.drop(columns='geometry'))\n",
    "\n",
    "print(f\"✅ Loaded {len(pois_chinatown_df)} POIs\")\n",
    "if 'amenity' in pois_chinatown_df.columns:\n",
    "    print(f\"   Top amenities: {pois_chinatown_df['amenity'].value_counts().head(3).to_dict()}\")"
   ]
  },
  {
   "cell_type": "code",
   "execution_count": 15,
   "id": "0aec09da-6f15-4a90-8991-08decc889323",
   "metadata": {},
   "outputs": [
    {
     "name": "stdout",
     "output_type": "stream",
     "text": [
      "🗄️ Creating spatial database: chinatown.duckdb\n",
      "✅ Database created with 139 nodes and 10611 POIs\n"
     ]
    }
   ],
   "source": [
    "# Create DuckDB database with spatial extensions\n",
    "db_path = \"chinatown.duckdb\"\n",
    "print(f\"🗄️ Creating spatial database: {db_path}\")\n",
    "\n",
    "# Connect to DuckDB\n",
    "conn_chinatown = duckdb.connect(db_path)\n",
    "\n",
    "# Install and load spatial extension\n",
    "conn_chinatown.execute(\"INSTALL spatial;\")\n",
    "conn_chinatown.execute(\"LOAD spatial;\")\n",
    "\n",
    "# Prepare nodes data from graph\n",
    "nodes_data = []\n",
    "for node, data in G_chinatown.nodes(data=True):\n",
    "    nodes_data.append({\n",
    "        'node_id': str(node),\n",
    "        'lat': data.get('y', 0),\n",
    "        'lon': data.get('x', 0),\n",
    "        'street_count': data.get('street_count', 0)\n",
    "    })\n",
    "\n",
    "nodes_df = pd.DataFrame(nodes_data)\n",
    "\n",
    "# Create nodes table\n",
    "conn_chinatown.execute(\"\"\"\n",
    "    CREATE OR REPLACE TABLE nodes AS \n",
    "    SELECT *, ST_Point(lon, lat) as geom \n",
    "    FROM nodes_df\n",
    "\"\"\")\n",
    "\n",
    "# Create POIs table\n",
    "conn_chinatown.execute(\"\"\"\n",
    "    CREATE OR REPLACE TABLE pois AS \n",
    "    SELECT *, ST_Point(lon, lat) as geom \n",
    "    FROM pois_chinatown_df\n",
    "\"\"\")\n",
    "\n",
    "# Create spatial indexes\n",
    "conn_chinatown.execute(\"CREATE INDEX idx_nodes_geom ON nodes USING RTREE(geom)\")\n",
    "conn_chinatown.execute(\"CREATE INDEX idx_pois_geom ON pois USING RTREE(geom)\")\n",
    "\n",
    "print(f\"✅ Database created with {len(nodes_df)} nodes and {len(pois_chinatown_df)} POIs\")"
   ]
  },
  {
   "cell_type": "code",
   "execution_count": 16,
   "id": "f4b8ed45-fd99-4307-a5db-71fd6afb97e6",
   "metadata": {},
   "outputs": [
    {
     "name": "stdout",
     "output_type": "stream",
     "text": [
      "📍 Loading street network for: Cox's Bazar, Bangladesh\n",
      "✅ Loaded 31 nodes, 66 edges\n",
      "💾 Saved to coxbazar.graphml\n"
     ]
    }
   ],
   "source": [
    "# Load street network for Cox's Bazar, Bangladesh\n",
    "cox_bazar_coords = (21.2143, 92.1666)\n",
    "cox_bazar_dist = 500  # meters\n",
    "\n",
    "print(f\"📍 Loading street network for: Cox's Bazar, Bangladesh\")\n",
    "\n",
    "# Download street network from coordinates\n",
    "G_coxbazar = ox.graph_from_point(cox_bazar_coords, dist=cox_bazar_dist, network_type='drive')\n",
    "\n",
    "# Convert node IDs to strings\n",
    "G_coxbazar = nx.relabel_nodes(G_coxbazar, {n: str(n) for n in G_coxbazar.nodes()})\n",
    "\n",
    "print(f\"✅ Loaded {G_coxbazar.number_of_nodes()} nodes, {G_coxbazar.number_of_edges()} edges\")\n",
    "\n",
    "# Save to GraphML\n",
    "ox.save_graphml(G_coxbazar, \"coxbazar.graphml\")\n",
    "print(f\"💾 Saved to coxbazar.graphml\")"
   ]
  },
  {
   "cell_type": "code",
   "execution_count": 17,
   "id": "d89b30a8-9f33-4537-ad8f-d42c24fcd7e9",
   "metadata": {},
   "outputs": [
    {
     "name": "stdout",
     "output_type": "stream",
     "text": [
      "🏢 Loading POI data for: Cox's Bazar\n",
      "✅ Loaded 3984 POIs\n",
      "   Top amenities: {'hospital': 2, 'refugee_site': 2, 'doctors': 1}\n"
     ]
    },
    {
     "name": "stderr",
     "output_type": "stream",
     "text": [
      "/tmp/ipykernel_2164/1647863537.py:8: UserWarning: Geometry is in a geographic CRS. Results from 'centroid' are likely incorrect. Use 'GeoSeries.to_crs()' to re-project geometries to a projected CRS before this operation.\n",
      "\n",
      "  pois_coxbazar['lon'] = pois_coxbazar.geometry.centroid.x\n",
      "/tmp/ipykernel_2164/1647863537.py:9: UserWarning: Geometry is in a geographic CRS. Results from 'centroid' are likely incorrect. Use 'GeoSeries.to_crs()' to re-project geometries to a projected CRS before this operation.\n",
      "\n",
      "  pois_coxbazar['lat'] = pois_coxbazar.geometry.centroid.y\n"
     ]
    }
   ],
   "source": [
    "# Load POI data for Cox's Bazar\n",
    "print(f\"🏢 Loading POI data for: Cox's Bazar\")\n",
    "\n",
    "# Download POIs from OpenStreetMap\n",
    "pois_coxbazar = ox.features_from_point(cox_bazar_coords, tags, dist=cox_bazar_dist)\n",
    "\n",
    "# Extract coordinates\n",
    "pois_coxbazar['lon'] = pois_coxbazar.geometry.centroid.x\n",
    "pois_coxbazar['lat'] = pois_coxbazar.geometry.centroid.y\n",
    "\n",
    "# Convert to dataframe\n",
    "pois_coxbazar_df = pd.DataFrame(pois_coxbazar.drop(columns='geometry'))\n",
    "\n",
    "print(f\"✅ Loaded {len(pois_coxbazar_df)} POIs\")\n",
    "print(f\"   Top amenities: {pois_coxbazar_df['amenity'].value_counts().head(3).to_dict()}\")"
   ]
  },
  {
   "cell_type": "code",
   "execution_count": 18,
   "id": "bc16b030-04a6-454d-8663-5c773742f9ac",
   "metadata": {},
   "outputs": [
    {
     "name": "stdout",
     "output_type": "stream",
     "text": [
      "🗄️ Creating spatial database: coxbazar.duckdb\n",
      "✅ Database created with 31 nodes and 3984 POIs\n"
     ]
    }
   ],
   "source": [
    "# Create Cox's Bazar database\n",
    "db_path_cox = \"coxbazar.duckdb\"\n",
    "print(f\"🗄️ Creating spatial database: {db_path_cox}\")\n",
    "\n",
    "conn_coxbazar = duckdb.connect(db_path_cox)\n",
    "\n",
    "# Install spatial extension\n",
    "conn_coxbazar.execute(\"INSTALL spatial;\")\n",
    "conn_coxbazar.execute(\"LOAD spatial;\")\n",
    "\n",
    "# Prepare nodes data\n",
    "cox_nodes_data = []\n",
    "for node, data in G_coxbazar.nodes(data=True):\n",
    "    cox_nodes_data.append({\n",
    "        'node_id': str(node),\n",
    "        'lat': data.get('y', 0),\n",
    "        'lon': data.get('x', 0),\n",
    "        'street_count': data.get('street_count', 0)\n",
    "    })\n",
    "\n",
    "cox_nodes_df = pd.DataFrame(cox_nodes_data)\n",
    "\n",
    "# Create tables\n",
    "conn_coxbazar.execute(\"\"\"\n",
    "    CREATE OR REPLACE TABLE nodes AS \n",
    "    SELECT *, ST_Point(lon, lat) as geom \n",
    "    FROM cox_nodes_df\n",
    "\"\"\")\n",
    "\n",
    "conn_coxbazar.execute(\"\"\"\n",
    "    CREATE OR REPLACE TABLE pois AS \n",
    "    SELECT *, ST_Point(lon, lat) as geom \n",
    "    FROM pois_coxbazar_df\n",
    "\"\"\")\n",
    "\n",
    "# Create indexes\n",
    "conn_coxbazar.execute(\"CREATE INDEX idx_nodes_geom ON nodes USING RTREE(geom)\")\n",
    "conn_coxbazar.execute(\"CREATE INDEX idx_pois_geom ON pois USING RTREE(geom)\")\n",
    "\n",
    "print(f\"✅ Database created with {len(cox_nodes_df)} nodes and {len(pois_coxbazar_df)} POIs\")"
   ]
  },
  {
   "cell_type": "code",
   "execution_count": 21,
   "id": "1108e62f-bea6-442e-ab95-2cd657255ba8",
   "metadata": {},
   "outputs": [],
   "source": [
    "conn_chinatown.close()\n",
    "conn_coxbazar.close()"
   ]
  },
  {
   "cell_type": "code",
   "execution_count": null,
   "id": "39861744-bead-4da4-bd95-2712c891676e",
   "metadata": {},
   "outputs": [],
   "source": []
  }
 ],
 "metadata": {
  "kernelspec": {
   "display_name": "Python 3 (ipykernel)",
   "language": "python",
   "name": "python3"
  },
  "language_info": {
   "codemirror_mode": {
    "name": "ipython",
    "version": 3
   },
   "file_extension": ".py",
   "mimetype": "text/x-python",
   "name": "python",
   "nbconvert_exporter": "python",
   "pygments_lexer": "ipython3",
   "version": "3.12.11"
  }
 },
 "nbformat": 4,
 "nbformat_minor": 5
}
